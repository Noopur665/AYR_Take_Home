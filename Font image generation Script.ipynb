{
 "cells": [
  {
   "cell_type": "code",
   "execution_count": 1,
   "id": "548f726b",
   "metadata": {},
   "outputs": [
    {
     "name": "stdout",
     "output_type": "stream",
     "text": [
      "Requirement already satisfied: pillow in /Users/noopur/opt/anaconda3/lib/python3.9/site-packages (9.2.0)\n",
      "Note: you may need to restart the kernel to use updated packages.\n"
     ]
    }
   ],
   "source": [
    "pip install pillow"
   ]
  },
  {
   "cell_type": "code",
   "execution_count": 2,
   "id": "7df9a132",
   "metadata": {},
   "outputs": [],
   "source": [
    "import os\n",
    "from PIL import Image, ImageDraw, ImageFont"
   ]
  },
  {
   "cell_type": "code",
   "execution_count": 10,
   "id": "9d38a1ca",
   "metadata": {},
   "outputs": [],
   "source": [
    "fonts_path = '/Applications/Noopur/Rutgers/ML Project/AYR Take Home/AYR-ml_project_files/fonts'\n",
    "output_path = '/Applications/Noopur/Rutgers/ML Project/AYR Take Home/AYR-ml_project_files/Test Fonts'"
   ]
  },
  {
   "cell_type": "code",
   "execution_count": 18,
   "id": "31c6dcd3",
   "metadata": {},
   "outputs": [
    {
     "name": "stderr",
     "output_type": "stream",
     "text": [
      "/var/folders/wk/95l4txg1785c4m9xl0pd7tcr0000gn/T/ipykernel_24780/3555218703.py:17: DeprecationWarning: textsize is deprecated and will be removed in Pillow 10 (2023-07-01). Use textbbox or textlength instead.\n",
      "  width, height = draw.textsize(text, font=font)\n",
      "/var/folders/wk/95l4txg1785c4m9xl0pd7tcr0000gn/T/ipykernel_24780/3555218703.py:17: DeprecationWarning: textsize is deprecated and will be removed in Pillow 10 (2023-07-01). Use textbbox or textlength instead.\n",
      "  width, height = draw.textsize(text, font=font)\n",
      "/var/folders/wk/95l4txg1785c4m9xl0pd7tcr0000gn/T/ipykernel_24780/3555218703.py:17: DeprecationWarning: textsize is deprecated and will be removed in Pillow 10 (2023-07-01). Use textbbox or textlength instead.\n",
      "  width, height = draw.textsize(text, font=font)\n",
      "/var/folders/wk/95l4txg1785c4m9xl0pd7tcr0000gn/T/ipykernel_24780/3555218703.py:17: DeprecationWarning: textsize is deprecated and will be removed in Pillow 10 (2023-07-01). Use textbbox or textlength instead.\n",
      "  width, height = draw.textsize(text, font=font)\n",
      "/var/folders/wk/95l4txg1785c4m9xl0pd7tcr0000gn/T/ipykernel_24780/3555218703.py:17: DeprecationWarning: textsize is deprecated and will be removed in Pillow 10 (2023-07-01). Use textbbox or textlength instead.\n",
      "  width, height = draw.textsize(text, font=font)\n",
      "/var/folders/wk/95l4txg1785c4m9xl0pd7tcr0000gn/T/ipykernel_24780/3555218703.py:17: DeprecationWarning: textsize is deprecated and will be removed in Pillow 10 (2023-07-01). Use textbbox or textlength instead.\n",
      "  width, height = draw.textsize(text, font=font)\n",
      "/var/folders/wk/95l4txg1785c4m9xl0pd7tcr0000gn/T/ipykernel_24780/3555218703.py:17: DeprecationWarning: textsize is deprecated and will be removed in Pillow 10 (2023-07-01). Use textbbox or textlength instead.\n",
      "  width, height = draw.textsize(text, font=font)\n",
      "/var/folders/wk/95l4txg1785c4m9xl0pd7tcr0000gn/T/ipykernel_24780/3555218703.py:17: DeprecationWarning: textsize is deprecated and will be removed in Pillow 10 (2023-07-01). Use textbbox or textlength instead.\n",
      "  width, height = draw.textsize(text, font=font)\n",
      "/var/folders/wk/95l4txg1785c4m9xl0pd7tcr0000gn/T/ipykernel_24780/3555218703.py:17: DeprecationWarning: textsize is deprecated and will be removed in Pillow 10 (2023-07-01). Use textbbox or textlength instead.\n",
      "  width, height = draw.textsize(text, font=font)\n",
      "/var/folders/wk/95l4txg1785c4m9xl0pd7tcr0000gn/T/ipykernel_24780/3555218703.py:17: DeprecationWarning: textsize is deprecated and will be removed in Pillow 10 (2023-07-01). Use textbbox or textlength instead.\n",
      "  width, height = draw.textsize(text, font=font)\n",
      "/var/folders/wk/95l4txg1785c4m9xl0pd7tcr0000gn/T/ipykernel_24780/3555218703.py:17: DeprecationWarning: textsize is deprecated and will be removed in Pillow 10 (2023-07-01). Use textbbox or textlength instead.\n",
      "  width, height = draw.textsize(text, font=font)\n",
      "/var/folders/wk/95l4txg1785c4m9xl0pd7tcr0000gn/T/ipykernel_24780/3555218703.py:17: DeprecationWarning: textsize is deprecated and will be removed in Pillow 10 (2023-07-01). Use textbbox or textlength instead.\n",
      "  width, height = draw.textsize(text, font=font)\n",
      "/var/folders/wk/95l4txg1785c4m9xl0pd7tcr0000gn/T/ipykernel_24780/3555218703.py:17: DeprecationWarning: textsize is deprecated and will be removed in Pillow 10 (2023-07-01). Use textbbox or textlength instead.\n",
      "  width, height = draw.textsize(text, font=font)\n",
      "/var/folders/wk/95l4txg1785c4m9xl0pd7tcr0000gn/T/ipykernel_24780/3555218703.py:17: DeprecationWarning: textsize is deprecated and will be removed in Pillow 10 (2023-07-01). Use textbbox or textlength instead.\n",
      "  width, height = draw.textsize(text, font=font)\n",
      "/var/folders/wk/95l4txg1785c4m9xl0pd7tcr0000gn/T/ipykernel_24780/3555218703.py:17: DeprecationWarning: textsize is deprecated and will be removed in Pillow 10 (2023-07-01). Use textbbox or textlength instead.\n",
      "  width, height = draw.textsize(text, font=font)\n",
      "/var/folders/wk/95l4txg1785c4m9xl0pd7tcr0000gn/T/ipykernel_24780/3555218703.py:17: DeprecationWarning: textsize is deprecated and will be removed in Pillow 10 (2023-07-01). Use textbbox or textlength instead.\n",
      "  width, height = draw.textsize(text, font=font)\n",
      "/var/folders/wk/95l4txg1785c4m9xl0pd7tcr0000gn/T/ipykernel_24780/3555218703.py:17: DeprecationWarning: textsize is deprecated and will be removed in Pillow 10 (2023-07-01). Use textbbox or textlength instead.\n",
      "  width, height = draw.textsize(text, font=font)\n",
      "/var/folders/wk/95l4txg1785c4m9xl0pd7tcr0000gn/T/ipykernel_24780/3555218703.py:17: DeprecationWarning: textsize is deprecated and will be removed in Pillow 10 (2023-07-01). Use textbbox or textlength instead.\n",
      "  width, height = draw.textsize(text, font=font)\n",
      "/var/folders/wk/95l4txg1785c4m9xl0pd7tcr0000gn/T/ipykernel_24780/3555218703.py:17: DeprecationWarning: textsize is deprecated and will be removed in Pillow 10 (2023-07-01). Use textbbox or textlength instead.\n",
      "  width, height = draw.textsize(text, font=font)\n"
     ]
    },
    {
     "name": "stdout",
     "output_type": "stream",
     "text": [
      "Saved Image_0_Holligate Signature.png\n",
      "Saved Image_1_Holligate Signature.png\n",
      "Saved Image_0_Allura.png\n",
      "Saved Image_1_Allura.png\n",
      "Saved Image_0_AlexBrush.png\n",
      "Saved Image_1_AlexBrush.png\n",
      "Saved Image_0_James Fajardo.png\n",
      "Saved Image_1_James Fajardo.png\n",
      "Saved Image_0_GreatVibes.png\n",
      "Saved Image_1_GreatVibes.png\n",
      "Saved Image_0_AguafinaScript.png\n",
      "Saved Image_1_AguafinaScript.png\n",
      "Saved Image_0_Canterbury.png\n",
      "Saved Image_1_Canterbury.png\n",
      "Saved Image_0_OpenSans.png\n",
      "Saved Image_1_OpenSans.png\n",
      "Saved Image_0_alsscrp.png\n",
      "Saved Image_1_alsscrp.png\n",
      "Saved Image_0_I Love Glitter.png\n",
      "Saved Image_1_I Love Glitter.png\n"
     ]
    },
    {
     "name": "stderr",
     "output_type": "stream",
     "text": [
      "/var/folders/wk/95l4txg1785c4m9xl0pd7tcr0000gn/T/ipykernel_24780/3555218703.py:17: DeprecationWarning: textsize is deprecated and will be removed in Pillow 10 (2023-07-01). Use textbbox or textlength instead.\n",
      "  width, height = draw.textsize(text, font=font)\n"
     ]
    }
   ],
   "source": [
    "\n",
    "\n",
    "def create_font_images(fonts_path, output_path, texts, image_size=(600, 200), font_size=150, final_size=(475, 99)):\n",
    "    if not os.path.exists(output_path):\n",
    "        os.makedirs(output_path)\n",
    "\n",
    "    fonts = [f for f in os.listdir(fonts_path) if f.endswith('.ttf')]\n",
    "\n",
    "    for font_name in fonts:\n",
    "        font_path = os.path.join(fonts_path, font_name)\n",
    "        count = 0 \n",
    "        for text in texts:\n",
    "            image = Image.new('RGB', image_size, color='white')\n",
    "            \n",
    "            draw = ImageDraw.Draw(image)\n",
    "            \n",
    "            font = ImageFont.truetype(font_path, font_size)\n",
    "            \n",
    "            width, height = draw.textsize(text, font=font)\n",
    "            \n",
    "            text_x = (image_size[0] - width) / 2\n",
    "            text_y = (image_size[1] - height) / 2\n",
    "            \n",
    "            draw.text((text_x, text_y), text, fill='black', font=font)\n",
    "            \n",
    "            font_name = font_name.split('.')[0]\n",
    "            \n",
    "            # Save the image\n",
    "            image_file_name = f'Image_{count}_{font_name}.png'\n",
    "            image.save(os.path.join(output_path, image_file_name))\n",
    "            print(f'Saved {image_file_name}')\n",
    "            count+=1\n",
    "\n",
    "\n",
    "texts = ['Hi There! This is my take home project', 'Strawberries are red']  # Texts to render in each font\n",
    "create_font_images(fonts_path, output_path, texts)"
   ]
  },
  {
   "cell_type": "code",
   "execution_count": null,
   "id": "ccee34d8",
   "metadata": {},
   "outputs": [],
   "source": []
  }
 ],
 "metadata": {
  "kernelspec": {
   "display_name": "Python 3 (ipykernel)",
   "language": "python",
   "name": "python3"
  },
  "language_info": {
   "codemirror_mode": {
    "name": "ipython",
    "version": 3
   },
   "file_extension": ".py",
   "mimetype": "text/x-python",
   "name": "python",
   "nbconvert_exporter": "python",
   "pygments_lexer": "ipython3",
   "version": "3.9.13"
  }
 },
 "nbformat": 4,
 "nbformat_minor": 5
}
