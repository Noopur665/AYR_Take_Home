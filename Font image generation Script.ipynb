{
 "cells": [
  {
   "cell_type": "markdown",
   "id": "a9ae28be",
   "metadata": {},
   "source": [
    "# Font Image Generation Process\n",
    "\n",
    "## The provided script generates images with text rendered in various fonts from 'fonts' folder containing .ttf font files. Below is a step-by-step documentation of the process used to create these images.\n",
    "\n",
    "### 1. Install Required Packages\n",
    "\n",
    "##### Ensure that the Pillow library (a fork of PIL, the Python Imaging Library) is installed. This library is used for image processing tasks."
   ]
  },
  {
   "cell_type": "code",
   "execution_count": 1,
   "id": "548f726b",
   "metadata": {
    "scrolled": false
   },
   "outputs": [
    {
     "name": "stdout",
     "output_type": "stream",
     "text": [
      "Requirement already satisfied: pillow in /opt/anaconda3/lib/python3.11/site-packages (10.2.0)\n",
      "Note: you may need to restart the kernel to use updated packages.\n"
     ]
    }
   ],
   "source": [
    "# pip install pillow"
   ]
  },
  {
   "cell_type": "markdown",
   "id": "07338837",
   "metadata": {},
   "source": [
    "### 2. Import Necessary Modules\n",
    "\n",
    "#### Import the required modules: os for directory operations, and Image, ImageDraw, and ImageFont from Pillow for image processing."
   ]
  },
  {
   "cell_type": "code",
   "execution_count": 2,
   "id": "7df9a132",
   "metadata": {},
   "outputs": [],
   "source": [
    "import os\n",
    "from PIL import Image, ImageDraw, ImageFont"
   ]
  },
  {
   "cell_type": "markdown",
   "id": "3d1b0f92",
   "metadata": {},
   "source": [
    "### 3. Set File Paths\n",
    "\n",
    "#### Define the paths to the folder containing the font files and the folder where the generated images will be saved.\n",
    "fonts_path: Path to the directory containing .ttf font files. </br>\n",
    "output_path: Path to the directory where the generated images will be saved."
   ]
  },
  {
   "cell_type": "code",
   "execution_count": 3,
   "id": "9d38a1ca",
   "metadata": {},
   "outputs": [],
   "source": [
    "fonts_path = 'fonts'\n",
    "output_path = 'Test Fonts'"
   ]
  },
  {
   "cell_type": "markdown",
   "id": "6e8afab8",
   "metadata": {},
   "source": [
    "### 4. Define the Image Generation Function\n",
    "\n",
    "#### Create a function create_font_images that generates images with specified text using different fonts.\n",
    "\n",
    "#### create_font_images:\n",
    "##### Parameters:\n",
    "    fonts_path: Directory with font files.\n",
    "    output_path: Directory to save images.\n",
    "    texts: List of text strings to render.\n",
    "    image_size: Tuple defining the size of the generated image.\n",
    "    font_size: Font size for the text.\n",
    "    final_size: Size to which the image will be resized before saving.\n",
    "##### Steps:\n",
    "    Create the output directory if it doesn't exist.\n",
    "    List all .ttf font files in the fonts_path.\n",
    "    For each font file, render the specified texts centered in an image.\n",
    "    Save each generated image in the output_path.\n"
   ]
  },
  {
   "cell_type": "code",
   "execution_count": 8,
   "id": "31c6dcd3",
   "metadata": {},
   "outputs": [],
   "source": [
    "def create_font_images(fonts_path, output_path, texts, image_size=(600, 200), font_size=150, final_size=(475, 99)):\n",
    "    if not os.path.exists(output_path):\n",
    "        os.makedirs(output_path)\n",
    "\n",
    "    fonts = [f for f in os.listdir(fonts_path) if f.endswith('.ttf')]\n",
    "\n",
    "    for font_name in fonts:\n",
    "        font_path = os.path.join(fonts_path, font_name)\n",
    "        count = 0 \n",
    "        for text in texts:\n",
    "            image = Image.new('RGB', image_size, color='white')\n",
    "            \n",
    "            draw = ImageDraw.Draw(image)\n",
    "            \n",
    "            font = ImageFont.truetype(font_path, font_size)\n",
    "            \n",
    "#             width, height = draw.textsize((0,0),text, font=font)\n",
    "            bbox = draw.textbbox((0, 0), text, font=font)\n",
    "            width = bbox[2] - bbox[0]\n",
    "            height = bbox[3] - bbox[1]\n",
    "            \n",
    "            text_x = (image_size[0] - width) / 2\n",
    "            text_y = (image_size[1] - height) / 2\n",
    "            \n",
    "            draw.text((text_x, text_y), text, fill='black', font=font)\n",
    "            \n",
    "            font_name = font_name.split('.')[0]\n",
    "            \n",
    "            # Save the image\n",
    "            image_file_name = f'Image_{count}_{font_name}.png'\n",
    "            image.save(os.path.join(output_path, image_file_name))\n",
    "            print(f'Saved {image_file_name}')\n",
    "            count+=1"
   ]
  },
  {
   "cell_type": "markdown",
   "id": "2ca0b240",
   "metadata": {},
   "source": [
    "### 5. Generate Font Images\n",
    "\n",
    "#### Define the text to be rendered in each font and call the create_font_images function to generate and save the images."
   ]
  },
  {
   "cell_type": "code",
   "execution_count": 9,
   "id": "5de6f9df",
   "metadata": {},
   "outputs": [
    {
     "name": "stdout",
     "output_type": "stream",
     "text": [
      "Saved Image_0_Holligate Signature.png\n",
      "Saved Image_1_Holligate Signature.png\n",
      "Saved Image_0_Allura.png\n",
      "Saved Image_1_Allura.png\n",
      "Saved Image_0_AlexBrush.png\n",
      "Saved Image_1_AlexBrush.png\n",
      "Saved Image_0_James Fajardo.png\n",
      "Saved Image_1_James Fajardo.png\n",
      "Saved Image_0_GreatVibes.png\n",
      "Saved Image_1_GreatVibes.png\n",
      "Saved Image_0_AguafinaScript.png\n",
      "Saved Image_1_AguafinaScript.png\n",
      "Saved Image_0_Canterbury.png\n",
      "Saved Image_1_Canterbury.png\n",
      "Saved Image_0_OpenSans.png\n",
      "Saved Image_1_OpenSans.png\n",
      "Saved Image_0_alsscrp.png\n",
      "Saved Image_1_alsscrp.png\n",
      "Saved Image_0_I Love Glitter.png\n",
      "Saved Image_1_I Love Glitter.png\n"
     ]
    }
   ],
   "source": [
    "texts = ['Hi There! This is my take home project', 'Strawberries are red']  # Texts to render in each font\n",
    "create_font_images(fonts_path, output_path, texts)"
   ]
  },
  {
   "cell_type": "code",
   "execution_count": null,
   "id": "7b67e160",
   "metadata": {},
   "outputs": [],
   "source": []
  }
 ],
 "metadata": {
  "kernelspec": {
   "display_name": "Python 3 (ipykernel)",
   "language": "python",
   "name": "python3"
  },
  "language_info": {
   "codemirror_mode": {
    "name": "ipython",
    "version": 3
   },
   "file_extension": ".py",
   "mimetype": "text/x-python",
   "name": "python",
   "nbconvert_exporter": "python",
   "pygments_lexer": "ipython3",
   "version": "3.11.7"
  }
 },
 "nbformat": 4,
 "nbformat_minor": 5
}
